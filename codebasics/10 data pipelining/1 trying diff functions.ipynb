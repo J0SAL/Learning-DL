{
  "nbformat": 4,
  "nbformat_minor": 0,
  "metadata": {
    "colab": {
      "name": "10 data pipelining.ipynb",
      "provenance": [],
      "authorship_tag": "ABX9TyM5c/1UulbNdCOTCRlwFs55",
      "include_colab_link": true
    },
    "kernelspec": {
      "name": "python3",
      "display_name": "Python 3"
    },
    "language_info": {
      "name": "python"
    }
  },
  "cells": [
    {
      "cell_type": "markdown",
      "metadata": {
        "id": "view-in-github",
        "colab_type": "text"
      },
      "source": [
        "<a href=\"https://colab.research.google.com/github/J0SAL/Learning-DL/blob/main/codebasics/10%20data%20pipelining/1%20trying%20diff%20functions.ipynb\" target=\"_parent\"><img src=\"https://colab.research.google.com/assets/colab-badge.svg\" alt=\"Open In Colab\"/></a>"
      ]
    },
    {
      "cell_type": "markdown",
      "source": [
        "# Data Pipelining"
      ],
      "metadata": {
        "id": "ekcgSFP5Xhxj"
      }
    },
    {
      "cell_type": "markdown",
      "source": [
        "TF Data Input Pipeline: Exercise Solution\n",
        "Moview reviews are present as individual text file (one file per review) in review folder.\n",
        "\n",
        "Folder structure looks like this,\n",
        "\n",
        "reviews\n",
        "\n",
        "|__ positive\n",
        "\n",
        "    |__pos_1.txt\n",
        "    |__pos_2.txt\n",
        "    |__pos_3.txt\n",
        "negative\n",
        "\n",
        "    |__neg_1.txt\n",
        "    |__neg_2.txt\n",
        "    |__neg_3.txt\n",
        "\n",
        "You need to read these reviews using tf.data.Dataset and perform following transformations,\n",
        "\n",
        "(1) Read text review and generate a label from folder name. your dataset should have review text and label as a tuple\n",
        "\n",
        "(2) Filter blank text review. Two files are blank in this dataset\n",
        "\n",
        "(3) Do all of the above transformations in single line of code. Also shuffle all the reviews"
      ],
      "metadata": {
        "id": "PcB8DcQ2Eirz"
      }
    },
    {
      "cell_type": "code",
      "source": [
        "import tensorflow as tf"
      ],
      "metadata": {
        "id": "6SQZJjfYE0ud"
      },
      "execution_count": 28,
      "outputs": []
    },
    {
      "cell_type": "markdown",
      "source": [
        "# Retrieve review file paths in a tensorflow dataset"
      ],
      "metadata": {
        "id": "DK-DH7vmE5qr"
      }
    },
    {
      "cell_type": "code",
      "source": [
        "# rmdir reviews/.ipynb_checkpoints"
      ],
      "metadata": {
        "id": "yNxx7hO9HBxj"
      },
      "execution_count": null,
      "outputs": []
    },
    {
      "cell_type": "code",
      "source": [
        "# rmdir reviews/positive/.ipynb_checkpoints"
      ],
      "metadata": {
        "id": "7d4r5NaoHW_Z"
      },
      "execution_count": 40,
      "outputs": []
    },
    {
      "cell_type": "code",
      "source": [
        "# rmdir reviews/negative/.ipynb_checkpoints"
      ],
      "metadata": {
        "id": "vz2RKoa3HZ4Y"
      },
      "execution_count": 41,
      "outputs": []
    },
    {
      "cell_type": "code",
      "source": [
        "reviews_ds = tf.data.Dataset.list_files('reviews/*/*', shuffle=False)"
      ],
      "metadata": {
        "id": "tFLq_iitE3GI"
      },
      "execution_count": 44,
      "outputs": []
    },
    {
      "cell_type": "code",
      "source": [
        "for file in reviews_ds:\n",
        "    print(file.numpy())"
      ],
      "metadata": {
        "colab": {
          "base_uri": "https://localhost:8080/"
        },
        "id": "O5oRVZizE8sy",
        "outputId": "d2c7c407-beca-495f-9d03-e4ebf269ba05"
      },
      "execution_count": 45,
      "outputs": [
        {
          "output_type": "stream",
          "name": "stdout",
          "text": [
            "b'reviews/negative/neg_1.txt'\n",
            "b'reviews/negative/neg_2.txt'\n",
            "b'reviews/negative/neg_3.txt'\n",
            "b'reviews/positive/pos_1.txt'\n",
            "b'reviews/positive/pos_2.txt'\n",
            "b'reviews/positive/pos_3.txt'\n"
          ]
        }
      ]
    },
    {
      "cell_type": "markdown",
      "source": [
        "**Extract review text from these files. Extract label from folder name**"
      ],
      "metadata": {
        "id": "wFez-hNCFvHn"
      }
    },
    {
      "cell_type": "code",
      "source": [
        "import os\n",
        "def extract_review_and_label(file_path):\n",
        "    return tf.io.read_file(file_path), tf.strings.split(file_path, os.path.sep)[-2]"
      ],
      "metadata": {
        "id": "8EkemA_mE-eu"
      },
      "execution_count": 46,
      "outputs": []
    },
    {
      "cell_type": "code",
      "source": [
        "reviews_ds_1 = reviews_ds.map(extract_review_and_label)\n",
        "for review, label in reviews_ds_1:\n",
        "    print(\"Review: \",review.numpy()[:50])\n",
        "    print(\"Label: \",label.numpy())"
      ],
      "metadata": {
        "colab": {
          "base_uri": "https://localhost:8080/"
        },
        "id": "ZVf9iLF_Fxw3",
        "outputId": "092eb508-c5cf-4a9b-dd3c-9117c94bf4a9"
      },
      "execution_count": 47,
      "outputs": [
        {
          "output_type": "stream",
          "name": "stdout",
          "text": [
            "Review:  b\"Basically there's a family where a little boy (Jak\"\n",
            "Label:  b'negative'\n",
            "Review:  b'This show was an amazing, fresh & innovative idea '\n",
            "Label:  b'negative'\n",
            "Review:  b''\n",
            "Label:  b'negative'\n",
            "Review:  b'One of the other reviewers has mentioned that afte'\n",
            "Label:  b'positive'\n",
            "Review:  b'A wonderful little production. <br /><br />The fil'\n",
            "Label:  b'positive'\n",
            "Review:  b''\n",
            "Label:  b'positive'\n"
          ]
        }
      ]
    },
    {
      "cell_type": "markdown",
      "source": [
        "**Filter blank reviews**"
      ],
      "metadata": {
        "id": "MMaBtAfPHorK"
      }
    },
    {
      "cell_type": "code",
      "source": [
        "reviews_ds_2 = reviews_ds_1.filter(lambda review, label: review!=\"\")\n",
        "for review, label in reviews_ds_2.as_numpy_iterator():\n",
        "    print(\"Review: \",review[:50])\n",
        "    print(\"Label: \",label)"
      ],
      "metadata": {
        "colab": {
          "base_uri": "https://localhost:8080/"
        },
        "id": "cTUmkgWbFz6X",
        "outputId": "c715b13f-5a29-4571-e372-615ea573dba0"
      },
      "execution_count": 48,
      "outputs": [
        {
          "output_type": "stream",
          "name": "stdout",
          "text": [
            "Review:  b\"Basically there's a family where a little boy (Jak\"\n",
            "Label:  b'negative'\n",
            "Review:  b'This show was an amazing, fresh & innovative idea '\n",
            "Label:  b'negative'\n",
            "Review:  b'One of the other reviewers has mentioned that afte'\n",
            "Label:  b'positive'\n",
            "Review:  b'A wonderful little production. <br /><br />The fil'\n",
            "Label:  b'positive'\n"
          ]
        }
      ]
    },
    {
      "cell_type": "markdown",
      "source": [
        "**Perform map, filter and shuffle all in single line of code**"
      ],
      "metadata": {
        "id": "7j4RtLoWHsgm"
      }
    },
    {
      "cell_type": "code",
      "source": [
        "final_ds = reviews_ds.map(extract_review_and_label).filter(lambda review, label: review!=\"\").shuffle(3)\n",
        "for review, label in final_ds.as_numpy_iterator():\n",
        "    print(\"Review:\",review[:50])\n",
        "    print(\"Label:\",label)"
      ],
      "metadata": {
        "colab": {
          "base_uri": "https://localhost:8080/"
        },
        "id": "KTCBSrE4HtvO",
        "outputId": "fcce0daa-fd82-45e3-b178-8c738aa75ed7"
      },
      "execution_count": 49,
      "outputs": [
        {
          "output_type": "stream",
          "name": "stdout",
          "text": [
            "Review: b\"Basically there's a family where a little boy (Jak\"\n",
            "Label: b'negative'\n",
            "Review: b'One of the other reviewers has mentioned that afte'\n",
            "Label: b'positive'\n",
            "Review: b'This show was an amazing, fresh & innovative idea '\n",
            "Label: b'negative'\n",
            "Review: b'A wonderful little production. <br /><br />The fil'\n",
            "Label: b'positive'\n"
          ]
        }
      ]
    }
  ]
}