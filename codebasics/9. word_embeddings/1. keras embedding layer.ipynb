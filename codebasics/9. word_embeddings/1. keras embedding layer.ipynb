{
  "nbformat": 4,
  "nbformat_minor": 0,
  "metadata": {
    "colab": {
      "name": "word embeddings.ipynb",
      "provenance": [],
      "authorship_tag": "ABX9TyOea2XtmYu7o2WlFpuTqcbJ",
      "include_colab_link": true
    },
    "kernelspec": {
      "name": "python3",
      "display_name": "Python 3"
    },
    "language_info": {
      "name": "python"
    }
  },
  "cells": [
    {
      "cell_type": "markdown",
      "metadata": {
        "id": "view-in-github",
        "colab_type": "text"
      },
      "source": [
        "<a href=\"https://colab.research.google.com/github/J0SAL/Learning-DL/blob/main/codebasics/9.%20word_embeddings/1.%20keras%20embedding%20layer.ipynb\" target=\"_parent\"><img src=\"https://colab.research.google.com/assets/colab-badge.svg\" alt=\"Open In Colab\"/></a>"
      ]
    },
    {
      "cell_type": "markdown",
      "source": [
        "# Word embedding using keras embedding layer\n",
        "- supervised"
      ],
      "metadata": {
        "id": "ekcgSFP5Xhxj"
      }
    },
    {
      "cell_type": "code",
      "execution_count": 15,
      "metadata": {
        "id": "dn6QJkcaXdTr"
      },
      "outputs": [],
      "source": [
        "import numpy as np\n",
        "from tensorflow.keras.preprocessing.text import one_hot\n",
        "from tensorflow.keras.preprocessing.sequence import pad_sequences\n",
        "from tensorflow.keras.models import Sequential\n",
        "from tensorflow.keras.layers import Dense\n",
        "from tensorflow.keras.layers import Flatten\n",
        "from tensorflow.keras.layers import Embedding\n",
        "\n",
        "reviews = ['nice food',\n",
        "        'amazing restaurant',\n",
        "        'too good',\n",
        "        'just loved it!',\n",
        "        'will go again',\n",
        "        'horrible food',\n",
        "        'never go there',\n",
        "        'poor service',\n",
        "        'poor quality',\n",
        "        'needs improvement'] #X\n",
        "\n",
        "sentiment = np.array([1,1,1,1,1,0,0,0,0,0]) #y"
      ]
    },
    {
      "cell_type": "code",
      "source": [
        "one_hot(\"amazing restaurant\",30)"
      ],
      "metadata": {
        "colab": {
          "base_uri": "https://localhost:8080/"
        },
        "id": "MsBNuqVYX45U",
        "outputId": "ea5bc608-6b83-4657-898f-1ebe5bf14ab8"
      },
      "execution_count": 16,
      "outputs": [
        {
          "output_type": "execute_result",
          "data": {
            "text/plain": [
              "[7, 20]"
            ]
          },
          "metadata": {},
          "execution_count": 16
        }
      ]
    },
    {
      "cell_type": "code",
      "source": [
        "vocab_size = 30\n",
        "encoded_reviews = [one_hot(d, vocab_size) for d in reviews]\n",
        "print(encoded_reviews)"
      ],
      "metadata": {
        "colab": {
          "base_uri": "https://localhost:8080/"
        },
        "id": "Oy_Z5JpfX6kp",
        "outputId": "d5b7a18c-3080-435b-ae90-c80ecb7ace67"
      },
      "execution_count": 17,
      "outputs": [
        {
          "output_type": "stream",
          "name": "stdout",
          "text": [
            "[[18, 6], [7, 20], [17, 18], [6, 9, 3], [24, 14, 29], [29, 6], [8, 14, 17], [5, 5], [5, 20], [21, 28]]\n"
          ]
        }
      ]
    },
    {
      "cell_type": "code",
      "source": [
        "# adding padding to make all sentence length equal\n",
        "max_length = 4\n",
        "padded_reviews = pad_sequences(encoded_reviews, maxlen=max_length, padding='post')\n",
        "print(padded_reviews)"
      ],
      "metadata": {
        "colab": {
          "base_uri": "https://localhost:8080/"
        },
        "id": "s-2O1vcTX8Mo",
        "outputId": "96491056-66db-4b7b-e494-ae49c0e1853d"
      },
      "execution_count": 18,
      "outputs": [
        {
          "output_type": "stream",
          "name": "stdout",
          "text": [
            "[[18  6  0  0]\n",
            " [ 7 20  0  0]\n",
            " [17 18  0  0]\n",
            " [ 6  9  3  0]\n",
            " [24 14 29  0]\n",
            " [29  6  0  0]\n",
            " [ 8 14 17  0]\n",
            " [ 5  5  0  0]\n",
            " [ 5 20  0  0]\n",
            " [21 28  0  0]]\n"
          ]
        }
      ]
    },
    {
      "cell_type": "code",
      "source": [
        "embeded_vector_size = 5 #5 features for a single word\n",
        "\n",
        "model = Sequential()\n",
        "model.add(Embedding(vocab_size, embeded_vector_size, input_length=max_length,name=\"embedding\"))\n",
        "model.add(Flatten())\n",
        "model.add(Dense(1, activation='sigmoid'))"
      ],
      "metadata": {
        "id": "Kd31ByrpYCsY"
      },
      "execution_count": 19,
      "outputs": []
    },
    {
      "cell_type": "code",
      "source": [
        "# renaming for simplicity\n",
        "X = padded_reviews\n",
        "y = sentiment"
      ],
      "metadata": {
        "id": "BNWL3UeDYN4J"
      },
      "execution_count": 20,
      "outputs": []
    },
    {
      "cell_type": "code",
      "source": [
        "model.compile(optimizer='adam', loss='binary_crossentropy', metrics=['accuracy'])\n",
        "print(model.summary())\n",
        "\n",
        "# max sentence lenght - 4\n",
        "# max feature size - 5\n",
        "# combining 4x5 - 20\n"
      ],
      "metadata": {
        "colab": {
          "base_uri": "https://localhost:8080/"
        },
        "id": "BxjUWA5yYRhJ",
        "outputId": "25207f0b-13d3-400d-8360-29aa788b57df"
      },
      "execution_count": 21,
      "outputs": [
        {
          "output_type": "stream",
          "name": "stdout",
          "text": [
            "Model: \"sequential_1\"\n",
            "_________________________________________________________________\n",
            " Layer (type)                Output Shape              Param #   \n",
            "=================================================================\n",
            " embedding (Embedding)       (None, 4, 5)              150       \n",
            "                                                                 \n",
            " flatten_1 (Flatten)         (None, 20)                0         \n",
            "                                                                 \n",
            " dense_1 (Dense)             (None, 1)                 21        \n",
            "                                                                 \n",
            "=================================================================\n",
            "Total params: 171\n",
            "Trainable params: 171\n",
            "Non-trainable params: 0\n",
            "_________________________________________________________________\n",
            "None\n"
          ]
        }
      ]
    },
    {
      "cell_type": "code",
      "source": [
        "# train\n",
        "model.fit(X, y, epochs=50, verbose=0)"
      ],
      "metadata": {
        "colab": {
          "base_uri": "https://localhost:8080/"
        },
        "id": "vpYxixvFYSzx",
        "outputId": "1c1fa718-f25d-431c-ea8e-4d454f298f63"
      },
      "execution_count": 22,
      "outputs": [
        {
          "output_type": "execute_result",
          "data": {
            "text/plain": [
              "<keras.callbacks.History at 0x7f533bf540d0>"
            ]
          },
          "metadata": {},
          "execution_count": 22
        }
      ]
    },
    {
      "cell_type": "code",
      "source": [
        "# evaluate the model\n",
        "loss, accuracy = model.evaluate(X, y)\n",
        "accuracy"
      ],
      "metadata": {
        "colab": {
          "base_uri": "https://localhost:8080/"
        },
        "id": "IIO5wGeAY8Pg",
        "outputId": "3b126ebe-5c3d-4c80-fbae-246da98dc05a"
      },
      "execution_count": 23,
      "outputs": [
        {
          "output_type": "stream",
          "name": "stdout",
          "text": [
            "1/1 [==============================] - 0s 140ms/step - loss: 0.6629 - accuracy: 1.0000\n"
          ]
        },
        {
          "output_type": "execute_result",
          "data": {
            "text/plain": [
              "1.0"
            ]
          },
          "metadata": {},
          "execution_count": 23
        }
      ]
    },
    {
      "cell_type": "code",
      "source": [
        "weights = model.get_layer('embedding').get_weights()[0]\n",
        "len(weights)"
      ],
      "metadata": {
        "colab": {
          "base_uri": "https://localhost:8080/"
        },
        "id": "EUCseStXZAQQ",
        "outputId": "cec05505-87a7-4733-c6cf-204e4a1f6d78"
      },
      "execution_count": 24,
      "outputs": [
        {
          "output_type": "execute_result",
          "data": {
            "text/plain": [
              "30"
            ]
          },
          "metadata": {},
          "execution_count": 24
        }
      ]
    },
    {
      "cell_type": "code",
      "source": [
        "weights\n",
        "# here are all the weights/features for all the words"
      ],
      "metadata": {
        "colab": {
          "base_uri": "https://localhost:8080/"
        },
        "id": "jsix6u1oZB4X",
        "outputId": "6e8fb376-b25d-498d-95f6-bd2df6776313"
      },
      "execution_count": 25,
      "outputs": [
        {
          "output_type": "execute_result",
          "data": {
            "text/plain": [
              "array([[-9.78680551e-02, -8.24200287e-02,  5.45406081e-02,\n",
              "         8.81870762e-02,  1.58364419e-02],\n",
              "       [ 9.02637839e-05,  3.58499996e-02, -2.80221459e-02,\n",
              "        -1.25683658e-02,  4.73877080e-02],\n",
              "       [-2.93541700e-04, -4.55520153e-02, -4.89594452e-02,\n",
              "         3.30250748e-02, -4.35574912e-02],\n",
              "       [ 9.24173370e-02,  1.02190129e-01, -9.61081684e-02,\n",
              "        -3.13843936e-02, -2.81272829e-02],\n",
              "       [ 1.44953020e-02, -4.17479500e-02, -1.27492771e-02,\n",
              "         4.06990089e-02,  3.80802043e-02],\n",
              "       [-4.10913723e-03,  3.60431746e-02,  5.62870428e-02,\n",
              "         9.93414894e-02, -6.74327910e-02],\n",
              "       [ 2.94070039e-02, -8.23434629e-03, -1.87690854e-02,\n",
              "        -6.85282424e-02, -2.40038000e-02],\n",
              "       [ 1.89434886e-02, -2.99409479e-02, -5.80079388e-03,\n",
              "        -2.33867187e-02, -6.95640454e-03],\n",
              "       [-9.68142971e-02,  3.01088430e-02,  6.35158569e-02,\n",
              "         4.41660583e-02,  7.92849064e-02],\n",
              "       [ 4.52709384e-02, -7.97579736e-02,  4.26264517e-02,\n",
              "        -2.06861552e-02,  3.55972536e-02],\n",
              "       [-3.44787352e-02, -3.01934015e-02, -1.18994117e-02,\n",
              "         9.22876596e-03, -1.43562183e-02],\n",
              "       [ 1.62496418e-03,  2.32448466e-02, -4.70514782e-02,\n",
              "        -1.51619911e-02,  2.30001099e-02],\n",
              "       [-3.87028567e-02, -3.35148573e-02,  4.67207171e-02,\n",
              "        -4.95048277e-02, -1.49564147e-02],\n",
              "       [-3.80187854e-02, -2.93930527e-02,  8.89999792e-03,\n",
              "         1.67268775e-02,  1.07488744e-02],\n",
              "       [ 2.27578003e-02,  4.88411151e-02, -2.77260179e-03,\n",
              "         5.79455774e-03, -5.78558072e-02],\n",
              "       [ 3.51175182e-02,  3.92017700e-02, -5.24254888e-03,\n",
              "        -4.15870659e-02,  4.09901775e-02],\n",
              "       [ 2.57230438e-02,  4.24039625e-02,  3.77223156e-02,\n",
              "         3.92613299e-02,  1.85232200e-02],\n",
              "       [ 7.91019574e-03, -2.60311645e-02, -5.45875495e-03,\n",
              "         1.48848230e-02,  9.15547386e-02],\n",
              "       [ 2.20564450e-03, -4.10915799e-02, -6.29622415e-02,\n",
              "        -9.48998705e-02,  5.31720417e-03],\n",
              "       [-2.24120971e-02, -3.73187177e-02,  3.86134535e-03,\n",
              "         4.53124680e-02, -1.64052136e-02],\n",
              "       [-4.84456792e-02, -3.06521263e-03,  1.17118191e-02,\n",
              "        -5.20357676e-02,  2.91420147e-02],\n",
              "       [-7.62843639e-02,  6.51982576e-02,  4.39179987e-02,\n",
              "         4.26001251e-02,  1.01232575e-02],\n",
              "       [-5.20227104e-03,  1.99061073e-02,  7.94570521e-03,\n",
              "        -2.44634748e-02, -2.20619682e-02],\n",
              "       [-3.30196619e-02,  2.06533410e-02, -1.21487603e-02,\n",
              "        -1.81601197e-03, -3.03281546e-02],\n",
              "       [ 2.80979648e-02, -1.69352237e-02, -1.48282396e-02,\n",
              "        -4.94903140e-02, -3.01912650e-02],\n",
              "       [ 1.45717524e-02,  4.35246155e-03, -8.07553530e-03,\n",
              "         1.72954090e-02, -1.23946667e-02],\n",
              "       [ 2.99325027e-02, -2.68355757e-03, -4.60567251e-02,\n",
              "         4.29233164e-03, -2.80180108e-02],\n",
              "       [ 2.29828246e-02,  4.26481031e-02,  2.96224281e-03,\n",
              "        -2.53489260e-02, -1.88312661e-02],\n",
              "       [-3.74204945e-03,  5.97541593e-02, -5.38666174e-02,\n",
              "         5.50138317e-02, -6.81158900e-02],\n",
              "       [-6.77326545e-02,  4.16340008e-02, -2.91306209e-02,\n",
              "        -6.49894699e-02, -3.58362496e-02]], dtype=float32)"
            ]
          },
          "metadata": {},
          "execution_count": 25
        }
      ]
    },
    {
      "cell_type": "code",
      "source": [
        "weights[4]"
      ],
      "metadata": {
        "colab": {
          "base_uri": "https://localhost:8080/"
        },
        "id": "6AaF4J3OZfXw",
        "outputId": "e5a6b4ad-0189-460a-83db-4c27cf8c4e2d"
      },
      "execution_count": 26,
      "outputs": [
        {
          "output_type": "execute_result",
          "data": {
            "text/plain": [
              "array([ 0.0144953 , -0.04174795, -0.01274928,  0.04069901,  0.0380802 ],\n",
              "      dtype=float32)"
            ]
          },
          "metadata": {},
          "execution_count": 26
        }
      ]
    },
    {
      "cell_type": "markdown",
      "source": [
        "Node: Embeddings can be saved and used later "
      ],
      "metadata": {
        "id": "3MpbdCcvZXwR"
      }
    }
  ]
}